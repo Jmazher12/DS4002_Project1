{
  "cells": [
    {
      "cell_type": "markdown",
      "metadata": {
        "id": "view-in-github",
        "colab_type": "text"
      },
      "source": [
        "<a href=\"https://colab.research.google.com/github/Jmazher12/DS4002_Project1/blob/main/DS4002Project1.ipynb\" target=\"_parent\"><img src=\"https://colab.research.google.com/assets/colab-badge.svg\" alt=\"Open In Colab\"/></a>"
      ]
    },
    {
      "cell_type": "code",
      "execution_count": null,
      "metadata": {
        "colab": {
          "base_uri": "https://localhost:8080/"
        },
        "id": "L9pDk1aefwQa",
        "outputId": "862f67c0-3cfb-4d14-8578-52e1057a979e"
      },
      "outputs": [
        {
          "name": "stdout",
          "output_type": "stream",
          "text": [
            "Collecting vaderSentiment\n",
            "  Downloading vaderSentiment-3.3.2-py2.py3-none-any.whl.metadata (572 bytes)\n",
            "Requirement already satisfied: requests in /usr/local/lib/python3.10/dist-packages (from vaderSentiment) (2.32.3)\n",
            "Requirement already satisfied: charset-normalizer<4,>=2 in /usr/local/lib/python3.10/dist-packages (from requests->vaderSentiment) (3.3.2)\n",
            "Requirement already satisfied: idna<4,>=2.5 in /usr/local/lib/python3.10/dist-packages (from requests->vaderSentiment) (3.10)\n",
            "Requirement already satisfied: urllib3<3,>=1.21.1 in /usr/local/lib/python3.10/dist-packages (from requests->vaderSentiment) (2.2.3)\n",
            "Requirement already satisfied: certifi>=2017.4.17 in /usr/local/lib/python3.10/dist-packages (from requests->vaderSentiment) (2024.8.30)\n",
            "Downloading vaderSentiment-3.3.2-py2.py3-none-any.whl (125 kB)\n",
            "\u001b[2K   \u001b[90m━━━━━━━━━━━━━━━━━━━━━━━━━━━━━━━━━━━━━━━━\u001b[0m \u001b[32m126.0/126.0 kB\u001b[0m \u001b[31m2.6 MB/s\u001b[0m eta \u001b[36m0:00:00\u001b[0m\n",
            "\u001b[?25hInstalling collected packages: vaderSentiment\n",
            "Successfully installed vaderSentiment-3.3.2\n"
          ]
        }
      ],
      "source": [
        "pip install vaderSentiment"
      ]
    },
    {
      "cell_type": "code",
      "execution_count": null,
      "metadata": {
        "id": "nQUBTzJujzMe"
      },
      "outputs": [],
      "source": [
        "import pandas as pd\n",
        "import re\n",
        "from nltk.corpus import stopwords\n",
        "from vaderSentiment.vaderSentiment import SentimentIntensityAnalyzer\n",
        "import nltk"
      ]
    },
    {
      "cell_type": "code",
      "execution_count": null,
      "metadata": {
        "colab": {
          "base_uri": "https://localhost:8080/"
        },
        "id": "JM1u_Zp7yqwq",
        "outputId": "38ac8275-9917-42fa-ab89-31190f651277"
      },
      "outputs": [
        {
          "name": "stdout",
          "output_type": "stream",
          "text": [
            "Requirement already satisfied: nltk in /usr/local/lib/python3.10/dist-packages (3.8.1)\n",
            "Requirement already satisfied: click in /usr/local/lib/python3.10/dist-packages (from nltk) (8.1.7)\n",
            "Requirement already satisfied: joblib in /usr/local/lib/python3.10/dist-packages (from nltk) (1.4.2)\n",
            "Requirement already satisfied: regex>=2021.8.3 in /usr/local/lib/python3.10/dist-packages (from nltk) (2024.9.11)\n",
            "Requirement already satisfied: tqdm in /usr/local/lib/python3.10/dist-packages (from nltk) (4.66.5)\n"
          ]
        }
      ],
      "source": [
        "pip install nltk"
      ]
    },
    {
      "cell_type": "code",
      "execution_count": null,
      "metadata": {
        "colab": {
          "base_uri": "https://localhost:8080/"
        },
        "id": "qzWf1UmZyTdx",
        "outputId": "8e88878a-b0fe-456f-f601-8adaeed0abcd"
      },
      "outputs": [
        {
          "name": "stderr",
          "output_type": "stream",
          "text": [
            "[nltk_data] Downloading package stopwords to /root/nltk_data...\n",
            "[nltk_data]   Unzipping corpora/stopwords.zip.\n"
          ]
        }
      ],
      "source": [
        "nltk.download('stopwords')\n",
        "stop_words = set(stopwords.words('english'))"
      ]
    },
    {
      "cell_type": "code",
      "execution_count": null,
      "metadata": {
        "id": "5iCuzZJJeXyc"
      },
      "outputs": [],
      "source": [
        "from vaderSentiment.vaderSentiment import SentimentIntensityAnalyzer"
      ]
    },
    {
      "cell_type": "code",
      "execution_count": null,
      "metadata": {
        "colab": {
          "base_uri": "https://localhost:8080/",
          "height": 663
        },
        "id": "SyNrdyBJfHaV",
        "outputId": "54ed1c28-e892-4189-825a-45380dab6592"
      },
      "outputs": [
        {
          "name": "stdout",
          "output_type": "stream",
          "text": [
            "                                               Content         Platform  \\\n",
            "0    In a world this massive, there’s much to find ...  Rotten Tomatoes   \n",
            "1    The meaning behind each [death] is only augmen...  Rotten Tomatoes   \n",
            "2    The show manages to translate the classic nove...  Rotten Tomatoes   \n",
            "3    Shogun had “prestige” written all over it. Yet...  Rotten Tomatoes   \n",
            "4    If you like exquisitely structured narratives ...  Rotten Tomatoes   \n",
            "..                                                 ...              ...   \n",
            "793  I was really looking forward to this show. The...             IMDB   \n",
            "794  I got 17 minutes into it and turned it off. Th...             IMDB   \n",
            "795  I was waiting for this so long and here it is ...             IMDB   \n",
            "796  As a person, I criticize that I am against cha...             IMDB   \n",
            "797  Really well done job, its a great TV Show... B...             IMDB   \n",
            "\n",
            "                                                 Title  Rating  \n",
            "0                                                  NaN     NaN  \n",
            "1                                                  NaN     NaN  \n",
            "2                                                  NaN     NaN  \n",
            "3                                                  NaN     NaN  \n",
            "4                                                  NaN     NaN  \n",
            "..                                                 ...     ...  \n",
            "793                Too much cruelty. Too much reading.     3.0  \n",
            "794                          17 Minutes and not for me     2.0  \n",
            "795  English or Japanese? So mediocre copy of game ...     5.0  \n",
            "796              They are changing their dirty history     4.0  \n",
            "797           Why Portuguese doesn't speak Portuguese?     6.0  \n",
            "\n",
            "[798 rows x 4 columns]\n"
          ]
        },
        {
          "data": {
            "application/vnd.google.colaboratory.intrinsic+json": {
              "summary": "{\n  \"name\": \"df_shogun\",\n  \"rows\": 798,\n  \"fields\": [\n    {\n      \"column\": \"Content\",\n      \"properties\": {\n        \"dtype\": \"string\",\n        \"num_unique_values\": 797,\n        \"samples\": [\n          \"The plot is really good, the first 3 episodes very good and very accurate. Great series....but, where is the Portuguese language?The japanese people speaks their own language but when a Portuguese translator is needed the characters speaks in English.The directors should be more careful with this, and this issue is enough to put me off with the series and downgrade this much my rate instead of a 10 if they speak the correct language, it's really annoying specially for a Portuguese speaker waiting for my own language and then...english. Really disappointed.If there will be second season the producers should rethink about this.\",\n          \"I watched it after looking at the rating which was overwhelming but got disappointed. Initially it was too slow i thought that it might get better but no, it was a slow drama throughout the season. First you have to look at the subtitles to understand everything and then there is just talking and more talking. Very less action. Unwanted sexual scenes here and there. Giving 3 for the visuals and acting of some actors.I watched it after looking at the rating which was overwhelming but got disappointed. Initially it was too slow i thought that it might get better but no, it was a slow drama throughout the season. First you have to look at the subtitles to understand everything and then there is just talking and more talking. Very less action. Unwanted sexual scenes here and there. Giving 3 for the visuals and acting of some actors.\",\n          \"This Sh\\u014dgun has many hearts and many points of view, rather than fixating on the simplistic stranger in a strange land story from the Eighties. It\\u2019s terrific.\"\n        ],\n        \"semantic_type\": \"\",\n        \"description\": \"\"\n      }\n    },\n    {\n      \"column\": \"Platform\",\n      \"properties\": {\n        \"dtype\": \"category\",\n        \"num_unique_values\": 2,\n        \"samples\": [\n          \"IMDB\",\n          \"Rotten Tomatoes\"\n        ],\n        \"semantic_type\": \"\",\n        \"description\": \"\"\n      }\n    },\n    {\n      \"column\": \"Title\",\n      \"properties\": {\n        \"dtype\": \"string\",\n        \"num_unique_values\": 677,\n        \"samples\": [\n          \"Why is it shot like that?!\",\n          \"Riviting\"\n        ],\n        \"semantic_type\": \"\",\n        \"description\": \"\"\n      }\n    },\n    {\n      \"column\": \"Rating\",\n      \"properties\": {\n        \"dtype\": \"number\",\n        \"std\": 3.023051591994134,\n        \"min\": 1.0,\n        \"max\": 10.0,\n        \"num_unique_values\": 10,\n        \"samples\": [\n          2.0,\n          9.0\n        ],\n        \"semantic_type\": \"\",\n        \"description\": \"\"\n      }\n    }\n  ]\n}",
              "type": "dataframe",
              "variable_name": "df_shogun"
            },
            "text/html": [
              "\n",
              "  <div id=\"df-82361bfe-a897-4ba7-ab7f-baefe960aed0\" class=\"colab-df-container\">\n",
              "    <div>\n",
              "<style scoped>\n",
              "    .dataframe tbody tr th:only-of-type {\n",
              "        vertical-align: middle;\n",
              "    }\n",
              "\n",
              "    .dataframe tbody tr th {\n",
              "        vertical-align: top;\n",
              "    }\n",
              "\n",
              "    .dataframe thead th {\n",
              "        text-align: right;\n",
              "    }\n",
              "</style>\n",
              "<table border=\"1\" class=\"dataframe\">\n",
              "  <thead>\n",
              "    <tr style=\"text-align: right;\">\n",
              "      <th></th>\n",
              "      <th>Content</th>\n",
              "      <th>Platform</th>\n",
              "      <th>Title</th>\n",
              "      <th>Rating</th>\n",
              "    </tr>\n",
              "  </thead>\n",
              "  <tbody>\n",
              "    <tr>\n",
              "      <th>0</th>\n",
              "      <td>In a world this massive, there’s much to find ...</td>\n",
              "      <td>Rotten Tomatoes</td>\n",
              "      <td>NaN</td>\n",
              "      <td>NaN</td>\n",
              "    </tr>\n",
              "    <tr>\n",
              "      <th>1</th>\n",
              "      <td>The meaning behind each [death] is only augmen...</td>\n",
              "      <td>Rotten Tomatoes</td>\n",
              "      <td>NaN</td>\n",
              "      <td>NaN</td>\n",
              "    </tr>\n",
              "    <tr>\n",
              "      <th>2</th>\n",
              "      <td>The show manages to translate the classic nove...</td>\n",
              "      <td>Rotten Tomatoes</td>\n",
              "      <td>NaN</td>\n",
              "      <td>NaN</td>\n",
              "    </tr>\n",
              "    <tr>\n",
              "      <th>3</th>\n",
              "      <td>Shogun had “prestige” written all over it. Yet...</td>\n",
              "      <td>Rotten Tomatoes</td>\n",
              "      <td>NaN</td>\n",
              "      <td>NaN</td>\n",
              "    </tr>\n",
              "    <tr>\n",
              "      <th>4</th>\n",
              "      <td>If you like exquisitely structured narratives ...</td>\n",
              "      <td>Rotten Tomatoes</td>\n",
              "      <td>NaN</td>\n",
              "      <td>NaN</td>\n",
              "    </tr>\n",
              "  </tbody>\n",
              "</table>\n",
              "</div>\n",
              "    <div class=\"colab-df-buttons\">\n",
              "\n",
              "  <div class=\"colab-df-container\">\n",
              "    <button class=\"colab-df-convert\" onclick=\"convertToInteractive('df-82361bfe-a897-4ba7-ab7f-baefe960aed0')\"\n",
              "            title=\"Convert this dataframe to an interactive table.\"\n",
              "            style=\"display:none;\">\n",
              "\n",
              "  <svg xmlns=\"http://www.w3.org/2000/svg\" height=\"24px\" viewBox=\"0 -960 960 960\">\n",
              "    <path d=\"M120-120v-720h720v720H120Zm60-500h600v-160H180v160Zm220 220h160v-160H400v160Zm0 220h160v-160H400v160ZM180-400h160v-160H180v160Zm440 0h160v-160H620v160ZM180-180h160v-160H180v160Zm440 0h160v-160H620v160Z\"/>\n",
              "  </svg>\n",
              "    </button>\n",
              "\n",
              "  <style>\n",
              "    .colab-df-container {\n",
              "      display:flex;\n",
              "      gap: 12px;\n",
              "    }\n",
              "\n",
              "    .colab-df-convert {\n",
              "      background-color: #E8F0FE;\n",
              "      border: none;\n",
              "      border-radius: 50%;\n",
              "      cursor: pointer;\n",
              "      display: none;\n",
              "      fill: #1967D2;\n",
              "      height: 32px;\n",
              "      padding: 0 0 0 0;\n",
              "      width: 32px;\n",
              "    }\n",
              "\n",
              "    .colab-df-convert:hover {\n",
              "      background-color: #E2EBFA;\n",
              "      box-shadow: 0px 1px 2px rgba(60, 64, 67, 0.3), 0px 1px 3px 1px rgba(60, 64, 67, 0.15);\n",
              "      fill: #174EA6;\n",
              "    }\n",
              "\n",
              "    .colab-df-buttons div {\n",
              "      margin-bottom: 4px;\n",
              "    }\n",
              "\n",
              "    [theme=dark] .colab-df-convert {\n",
              "      background-color: #3B4455;\n",
              "      fill: #D2E3FC;\n",
              "    }\n",
              "\n",
              "    [theme=dark] .colab-df-convert:hover {\n",
              "      background-color: #434B5C;\n",
              "      box-shadow: 0px 1px 3px 1px rgba(0, 0, 0, 0.15);\n",
              "      filter: drop-shadow(0px 1px 2px rgba(0, 0, 0, 0.3));\n",
              "      fill: #FFFFFF;\n",
              "    }\n",
              "  </style>\n",
              "\n",
              "    <script>\n",
              "      const buttonEl =\n",
              "        document.querySelector('#df-82361bfe-a897-4ba7-ab7f-baefe960aed0 button.colab-df-convert');\n",
              "      buttonEl.style.display =\n",
              "        google.colab.kernel.accessAllowed ? 'block' : 'none';\n",
              "\n",
              "      async function convertToInteractive(key) {\n",
              "        const element = document.querySelector('#df-82361bfe-a897-4ba7-ab7f-baefe960aed0');\n",
              "        const dataTable =\n",
              "          await google.colab.kernel.invokeFunction('convertToInteractive',\n",
              "                                                    [key], {});\n",
              "        if (!dataTable) return;\n",
              "\n",
              "        const docLinkHtml = 'Like what you see? Visit the ' +\n",
              "          '<a target=\"_blank\" href=https://colab.research.google.com/notebooks/data_table.ipynb>data table notebook</a>'\n",
              "          + ' to learn more about interactive tables.';\n",
              "        element.innerHTML = '';\n",
              "        dataTable['output_type'] = 'display_data';\n",
              "        await google.colab.output.renderOutput(dataTable, element);\n",
              "        const docLink = document.createElement('div');\n",
              "        docLink.innerHTML = docLinkHtml;\n",
              "        element.appendChild(docLink);\n",
              "      }\n",
              "    </script>\n",
              "  </div>\n",
              "\n",
              "\n",
              "<div id=\"df-ef4e1022-892f-4c03-8aa9-beda63a0817f\">\n",
              "  <button class=\"colab-df-quickchart\" onclick=\"quickchart('df-ef4e1022-892f-4c03-8aa9-beda63a0817f')\"\n",
              "            title=\"Suggest charts\"\n",
              "            style=\"display:none;\">\n",
              "\n",
              "<svg xmlns=\"http://www.w3.org/2000/svg\" height=\"24px\"viewBox=\"0 0 24 24\"\n",
              "     width=\"24px\">\n",
              "    <g>\n",
              "        <path d=\"M19 3H5c-1.1 0-2 .9-2 2v14c0 1.1.9 2 2 2h14c1.1 0 2-.9 2-2V5c0-1.1-.9-2-2-2zM9 17H7v-7h2v7zm4 0h-2V7h2v10zm4 0h-2v-4h2v4z\"/>\n",
              "    </g>\n",
              "</svg>\n",
              "  </button>\n",
              "\n",
              "<style>\n",
              "  .colab-df-quickchart {\n",
              "      --bg-color: #E8F0FE;\n",
              "      --fill-color: #1967D2;\n",
              "      --hover-bg-color: #E2EBFA;\n",
              "      --hover-fill-color: #174EA6;\n",
              "      --disabled-fill-color: #AAA;\n",
              "      --disabled-bg-color: #DDD;\n",
              "  }\n",
              "\n",
              "  [theme=dark] .colab-df-quickchart {\n",
              "      --bg-color: #3B4455;\n",
              "      --fill-color: #D2E3FC;\n",
              "      --hover-bg-color: #434B5C;\n",
              "      --hover-fill-color: #FFFFFF;\n",
              "      --disabled-bg-color: #3B4455;\n",
              "      --disabled-fill-color: #666;\n",
              "  }\n",
              "\n",
              "  .colab-df-quickchart {\n",
              "    background-color: var(--bg-color);\n",
              "    border: none;\n",
              "    border-radius: 50%;\n",
              "    cursor: pointer;\n",
              "    display: none;\n",
              "    fill: var(--fill-color);\n",
              "    height: 32px;\n",
              "    padding: 0;\n",
              "    width: 32px;\n",
              "  }\n",
              "\n",
              "  .colab-df-quickchart:hover {\n",
              "    background-color: var(--hover-bg-color);\n",
              "    box-shadow: 0 1px 2px rgba(60, 64, 67, 0.3), 0 1px 3px 1px rgba(60, 64, 67, 0.15);\n",
              "    fill: var(--button-hover-fill-color);\n",
              "  }\n",
              "\n",
              "  .colab-df-quickchart-complete:disabled,\n",
              "  .colab-df-quickchart-complete:disabled:hover {\n",
              "    background-color: var(--disabled-bg-color);\n",
              "    fill: var(--disabled-fill-color);\n",
              "    box-shadow: none;\n",
              "  }\n",
              "\n",
              "  .colab-df-spinner {\n",
              "    border: 2px solid var(--fill-color);\n",
              "    border-color: transparent;\n",
              "    border-bottom-color: var(--fill-color);\n",
              "    animation:\n",
              "      spin 1s steps(1) infinite;\n",
              "  }\n",
              "\n",
              "  @keyframes spin {\n",
              "    0% {\n",
              "      border-color: transparent;\n",
              "      border-bottom-color: var(--fill-color);\n",
              "      border-left-color: var(--fill-color);\n",
              "    }\n",
              "    20% {\n",
              "      border-color: transparent;\n",
              "      border-left-color: var(--fill-color);\n",
              "      border-top-color: var(--fill-color);\n",
              "    }\n",
              "    30% {\n",
              "      border-color: transparent;\n",
              "      border-left-color: var(--fill-color);\n",
              "      border-top-color: var(--fill-color);\n",
              "      border-right-color: var(--fill-color);\n",
              "    }\n",
              "    40% {\n",
              "      border-color: transparent;\n",
              "      border-right-color: var(--fill-color);\n",
              "      border-top-color: var(--fill-color);\n",
              "    }\n",
              "    60% {\n",
              "      border-color: transparent;\n",
              "      border-right-color: var(--fill-color);\n",
              "    }\n",
              "    80% {\n",
              "      border-color: transparent;\n",
              "      border-right-color: var(--fill-color);\n",
              "      border-bottom-color: var(--fill-color);\n",
              "    }\n",
              "    90% {\n",
              "      border-color: transparent;\n",
              "      border-bottom-color: var(--fill-color);\n",
              "    }\n",
              "  }\n",
              "</style>\n",
              "\n",
              "  <script>\n",
              "    async function quickchart(key) {\n",
              "      const quickchartButtonEl =\n",
              "        document.querySelector('#' + key + ' button');\n",
              "      quickchartButtonEl.disabled = true;  // To prevent multiple clicks.\n",
              "      quickchartButtonEl.classList.add('colab-df-spinner');\n",
              "      try {\n",
              "        const charts = await google.colab.kernel.invokeFunction(\n",
              "            'suggestCharts', [key], {});\n",
              "      } catch (error) {\n",
              "        console.error('Error during call to suggestCharts:', error);\n",
              "      }\n",
              "      quickchartButtonEl.classList.remove('colab-df-spinner');\n",
              "      quickchartButtonEl.classList.add('colab-df-quickchart-complete');\n",
              "    }\n",
              "    (() => {\n",
              "      let quickchartButtonEl =\n",
              "        document.querySelector('#df-ef4e1022-892f-4c03-8aa9-beda63a0817f button');\n",
              "      quickchartButtonEl.style.display =\n",
              "        google.colab.kernel.accessAllowed ? 'block' : 'none';\n",
              "    })();\n",
              "  </script>\n",
              "</div>\n",
              "\n",
              "    </div>\n",
              "  </div>\n"
            ],
            "text/plain": [
              "                                             Content         Platform Title  \\\n",
              "0  In a world this massive, there’s much to find ...  Rotten Tomatoes   NaN   \n",
              "1  The meaning behind each [death] is only augmen...  Rotten Tomatoes   NaN   \n",
              "2  The show manages to translate the classic nove...  Rotten Tomatoes   NaN   \n",
              "3  Shogun had “prestige” written all over it. Yet...  Rotten Tomatoes   NaN   \n",
              "4  If you like exquisitely structured narratives ...  Rotten Tomatoes   NaN   \n",
              "\n",
              "   Rating  \n",
              "0     NaN  \n",
              "1     NaN  \n",
              "2     NaN  \n",
              "3     NaN  \n",
              "4     NaN  "
            ]
          },
          "execution_count": 6,
          "metadata": {},
          "output_type": "execute_result"
        }
      ],
      "source": [
        "import pandas as pd\n",
        "\n",
        "# Read the CSV file into a DataFrame\n",
        "df_shogun = pd.read_csv('shogun_reviews_combined.csv')\n",
        "df_3body = pd.read_csv('3body_reviews_combined.csv')\n",
        "df_fallout = pd.read_csv('fallout_reviews_combined.csv')\n",
        "df_mr_mrs_smith = pd.read_csv('mr_mrs_smith_reviews_combined.csv')\n",
        "df_slow_horses = pd.read_csv('slow_horses_reviews_combined.csv')\n",
        "df_the_crown = pd.read_csv('the_crown_reviews_combined.csv')\n",
        "df_the_gilded = pd.read_csv('the_gilded_reviews_combined.csv')\n",
        "df_the_morning_show = pd.read_csv('the_morning_show_reviews_combined.csv')\n",
        "\n",
        "# Display the DataFrame\n",
        "print(df_shogun)\n",
        "df_shogun.head()"
      ]
    },
    {
      "cell_type": "code",
      "execution_count": null,
      "metadata": {
        "id": "JlrMLiYbkgW2"
      },
      "outputs": [],
      "source": [
        "def preprocess_text(text):\n",
        "  text = text.lower()\n",
        "  text = re.sub(r'[^a-z\\s]', '', text)\n",
        "  text = ''.join([word for word in text.split() if word not in stop_words])\n",
        "  return text"
      ]
    },
    {
      "cell_type": "code",
      "execution_count": null,
      "metadata": {
        "id": "g2kWAKqcxO9o"
      },
      "outputs": [],
      "source": [
        "df_shogun['Cleaned_Content'] = df_shogun['Content'].apply(lambda x: preprocess_text(str(x)))\n",
        "df_3body['Cleaned_Content'] = df_3body['Content'].apply(lambda x: preprocess_text(str(x)))\n",
        "df_fallout['Cleaned_Content'] = df_fallout['Content'].apply(lambda x: preprocess_text(str(x)))\n",
        "df_mr_mrs_smith['Cleaned_Content'] = df_mr_mrs_smith['Content'].apply(lambda x: preprocess_text(str(x)))\n",
        "df_slow_horses['Cleaned_Content'] = df_slow_horses['Content'].apply(lambda x: preprocess_text(str(x)))\n",
        "df_the_crown['Cleaned_Content'] = df_the_crown['Content'].apply(lambda x: preprocess_text(str(x)))\n",
        "df_the_gilded['Cleaned_Content'] = df_the_gilded['Content'].apply(lambda x: preprocess_text(str(x)))\n",
        "df_the_morning_show['Cleaned_Content'] = df_the_morning_show['Content'].apply(lambda x: preprocess_text(str(x)))"
      ]
    },
    {
      "cell_type": "code",
      "execution_count": null,
      "metadata": {
        "colab": {
          "base_uri": "https://localhost:8080/"
        },
        "id": "Q5WFg6_4f-Fg",
        "outputId": "d7bcb64b-ca7a-4cc6-8acc-3b4a1dcbcf85"
      },
      "outputs": [
        {
          "name": "stdout",
          "output_type": "stream",
          "text": [
            "{'neg': 0.082, 'neu': 0.744, 'pos': 0.174, 'compound': 1.0}\n"
          ]
        }
      ],
      "source": [
        "analyzer = SentimentIntensityAnalyzer()\n",
        "\n",
        "# Shogun\n",
        "review_text = df_shogun['Content']\n",
        "\n",
        "# Analyze the sentiment\n",
        "sentiment_score_shogun = analyzer.polarity_scores(review_text)\n",
        "\n",
        "# Output the sentiment scores\n",
        "print(sentiment_score_shogun)"
      ]
    },
    {
      "cell_type": "code",
      "execution_count": null,
      "metadata": {
        "colab": {
          "base_uri": "https://localhost:8080/"
        },
        "id": "paRdFElxwqC1",
        "outputId": "8cb27aa2-f763-4aad-8972-a2cb16b88a02"
      },
      "outputs": [
        {
          "name": "stdout",
          "output_type": "stream",
          "text": [
            "{'neg': 0.099, 'neu': 0.745, 'pos': 0.157, 'compound': 1.0}\n"
          ]
        }
      ],
      "source": [
        "analyzer = SentimentIntensityAnalyzer()\n",
        "\n",
        "# 3 Body\n",
        "review_text = df_3body['Content']\n",
        "\n",
        "# Analyze the sentiment\n",
        "sentiment_score_3body = analyzer.polarity_scores(review_text)\n",
        "\n",
        "# Output the sentiment scores\n",
        "print(sentiment_score_3body)"
      ]
    },
    {
      "cell_type": "code",
      "execution_count": null,
      "metadata": {
        "colab": {
          "background_save": true
        },
        "id": "B949oc972UYb",
        "outputId": "551f3556-bec4-4afb-9cfe-12c9877c647f"
      },
      "outputs": [
        {
          "name": "stdout",
          "output_type": "stream",
          "text": [
            "{'neg': 0.079, 'neu': 0.731, 'pos': 0.19, 'compound': 1.0}\n"
          ]
        }
      ],
      "source": [
        "analyzer = SentimentIntensityAnalyzer()\n",
        "\n",
        "# Fallout\n",
        "review_text = df_fallout['Content']\n",
        "\n",
        "# Analyze the sentiment\n",
        "sentiment_score_fallout = analyzer.polarity_scores(review_text)\n",
        "\n",
        "# Output the sentiment scores\n",
        "print(sentiment_score_fallout)"
      ]
    },
    {
      "cell_type": "code",
      "execution_count": null,
      "metadata": {
        "colab": {
          "background_save": true
        },
        "id": "Nu7ECYU4srPS",
        "outputId": "bc0333d6-4a89-4bab-a7ee-85efc9db248d"
      },
      "outputs": [
        {
          "name": "stdout",
          "output_type": "stream",
          "text": [
            "{'neg': 0.092, 'neu': 0.737, 'pos': 0.171, 'compound': 1.0}\n"
          ]
        }
      ],
      "source": [
        "analyzer = SentimentIntensityAnalyzer()\n",
        "\n",
        "# Mr and Mrs Smith\n",
        "review_text = df_mr_mrs_smith['Content']\n",
        "\n",
        "# Analyze the sentiment\n",
        "sentiment_score_mr_mrs_smith = analyzer.polarity_scores(review_text)\n",
        "\n",
        "# Output the sentiment scores\n",
        "print(sentiment_score_mr_mrs_smith)"
      ]
    },
    {
      "cell_type": "code",
      "execution_count": null,
      "metadata": {
        "colab": {
          "base_uri": "https://localhost:8080/"
        },
        "id": "s29iP3kmwthM",
        "outputId": "c9c97bc7-d07b-492b-f471-895404e66a82"
      },
      "outputs": [
        {
          "name": "stdout",
          "output_type": "stream",
          "text": [
            "{'neg': 0.084, 'neu': 0.729, 'pos': 0.187, 'compound': 1.0}\n"
          ]
        }
      ],
      "source": [
        "analyzer = SentimentIntensityAnalyzer()\n",
        "\n",
        "# Slow Horses\n",
        "review_text = df_slow_horses['Content']\n",
        "\n",
        "# Analyze the sentiment\n",
        "sentiment_score_slow_horses = analyzer.polarity_scores(review_text)\n",
        "\n",
        "# Output the sentiment scores\n",
        "print(sentiment_score_slow_horses)"
      ]
    },
    {
      "cell_type": "code",
      "execution_count": null,
      "metadata": {
        "colab": {
          "background_save": true
        },
        "id": "0fXY0IF1yNZ4",
        "outputId": "c310a4b3-b3e6-4427-e24b-05a8d3e293ac"
      },
      "outputs": [
        {
          "name": "stdout",
          "output_type": "stream",
          "text": [
            "{'neg': 0.08, 'neu': 0.749, 'pos': 0.171, 'compound': 1.0}\n"
          ]
        }
      ],
      "source": [
        "analyzer = SentimentIntensityAnalyzer()\n",
        "\n",
        "# The Crown\n",
        "review_text = df_the_crown['Content']\n",
        "\n",
        "# Analyze the sentiment\n",
        "sentiment_score_the_crown = analyzer.polarity_scores(review_text)\n",
        "\n",
        "# Output the sentiment scores\n",
        "print(sentiment_score_the_crown)"
      ]
    },
    {
      "cell_type": "code",
      "execution_count": null,
      "metadata": {
        "id": "Z3OPEYZOyYPY"
      },
      "outputs": [],
      "source": [
        "analyzer = SentimentIntensityAnalyzer()\n",
        "\n",
        "# The Gilded\n",
        "review_text = df_the_gilded['Content']\n",
        "\n",
        "# Analyze the sentiment\n",
        "sentiment_score_the_gilded = analyzer.polarity_scores(review_text)\n",
        "\n",
        "# Output the sentiment scores\n",
        "print(sentiment_score_the_gilded)"
      ]
    },
    {
      "cell_type": "code",
      "execution_count": null,
      "metadata": {
        "id": "APMNYM7pydTn"
      },
      "outputs": [],
      "source": [
        "analyzer = SentimentIntensityAnalyzer()\n",
        "\n",
        "# The Morning Show\n",
        "review_text = df_the_morning_show['Content']\n",
        "\n",
        "# Analyze the sentiment\n",
        "sentiment_score_the_morning_show = analyzer.polarity_scores(review_text)\n",
        "\n",
        "# Output the sentiment scores\n",
        "print(sentiment_score_the_morning_show)"
      ]
    },
    {
      "cell_type": "markdown",
      "metadata": {
        "id": "e9bbQNmhLYAE"
      },
      "source": []
    },
    {
      "cell_type": "code",
      "execution_count": null,
      "metadata": {
        "id": "WNmeIAyKlX3q"
      },
      "outputs": [],
      "source": [
        "sentiment_scores = [\n",
        "    {'Nominee': 'Shogun', 'negative': sentiment_score_shogun['neg'], 'neutral': sentiment_score_shogun['neu'], 'positive': sentiment_score_shogun['pos']},\n",
        "    {'Nominee': '3 Body Problem', 'negative': sentiment_score_3body['neg'], 'neutral': sentiment_score_3body['neu'], 'positive': sentiment_score_3body['pos']},\n",
        "    {'Nominee': 'Fallout', 'negative': sentiment_score_fallout['neg'], 'neutral': sentiment_score_fallout['neu'], 'positive': sentiment_score_fallout['pos']},\n",
        "    {'Nominee': 'Mr and Mrs Smith', 'negative': sentiment_score_mr_mrs_smith['neg'], 'neutral': sentiment_score_mr_mrs_smith['neu'], 'positive': sentiment_score_mr_mrs_smith['pos']},\n",
        "    {'Nominee': 'Slow Horses', 'negative': sentiment_score_slow_horses['neg'], 'neutral': sentiment_score_slow_horses['neu'], 'positive': sentiment_score_slow_horses['pos']},\n",
        "    {'Nominee': 'The Crown', 'negative': sentiment_score_the_crown['neg'], 'neutral': sentiment_score_the_crown['neu'], 'positive': sentiment_score_the_crown['pos']},\n",
        "    {'Nominee': 'The Gilded Age', 'negative': sentiment_score_the_gilded['neg'], 'neutral': sentiment_score_the_gilded['neu'], 'positive': sentiment_score_the_gilded['pos']},\n",
        "    {'Nominee': 'The Morning Show', 'negative': sentiment_score_the_morning_show['neg'], 'neutral': sentiment_score_the_morning_show['neu'], 'positive': sentiment_score_the_morning_show['pos']}\n",
        "]\n",
        "\n",
        "sentiment_df = pd.DataFrame(sentiment_scores)\n",
        "\n",
        "print(sentiment_df)"
      ]
    },
    {
      "cell_type": "code",
      "execution_count": null,
      "metadata": {
        "id": "6z8WXWjGmNx_"
      },
      "outputs": [],
      "source": [
        "sentiment_scores.to_csv('sentiment_scores.csv', index=False)"
      ]
    }
  ],
  "metadata": {
    "accelerator": "GPU",
    "colab": {
      "gpuType": "T4",
      "provenance": [],
      "include_colab_link": true
    },
    "kernelspec": {
      "display_name": "Python 3",
      "name": "python3"
    },
    "language_info": {
      "name": "python"
    }
  },
  "nbformat": 4,
  "nbformat_minor": 0
}